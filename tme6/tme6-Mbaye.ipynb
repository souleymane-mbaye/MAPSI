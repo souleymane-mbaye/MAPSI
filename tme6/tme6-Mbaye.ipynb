{
 "cells": [
  {
   "cell_type": "markdown",
   "metadata": {},
   "source": [
    "# TME sur la classification de lettres manuscrites\n",
    "## Format des données\n",
    "Nous travaillerons sur des lettres manuscrites.\n",
    "Les données sont fournies au format pickle (le standard de sérialisation python, particulièrement convivial). Pour les charger : "
   ]
  },
  {
   "cell_type": "code",
   "execution_count": 1,
   "metadata": {},
   "outputs": [],
   "source": [
    "import numpy as np\n",
    "import pickle as pkl\n",
    "import matplotlib.pyplot as plt\n",
    "\n",
    "with open('ressources/lettres.pkl', 'rb') as f:\n",
    "    data = pkl.load(f, encoding='latin1') \n",
    "X = np.array(data.get('letters'),dtype=object) # récupération des données sur les lettres\n",
    "Y = np.array(data.get('labels')) # récupération des étiquettes associées "
   ]
  },
  {
   "cell_type": "markdown",
   "metadata": {},
   "source": [
    "Les données sont dans un format original: une lettre est en fait une série d'angles (exprimés en degrés). Un exemple: "
   ]
  },
  {
   "cell_type": "code",
   "execution_count": 2,
   "metadata": {},
   "outputs": [
    {
     "data": {
      "text/plain": [
       "array([ 36.214493, 347.719116, 322.088898, 312.230957, 314.851013,\n",
       "       315.487213, 313.556702, 326.534973, 141.288971, 167.606689,\n",
       "       199.321594, 217.911087, 226.443298, 235.002472, 252.354492,\n",
       "       270.045654, 291.665161, 350.934723,  17.892815,  20.281025,\n",
       "        28.207161,  43.883423,  53.459026])"
      ]
     },
     "execution_count": 2,
     "metadata": {},
     "output_type": "execute_result"
    }
   ],
   "source": [
    "X[0]"
   ]
  },
  {
   "cell_type": "markdown",
   "metadata": {},
   "source": [
    "Lors de l'acquisition, un stylo intelligent a pris des mesures régulièrement dans le temps: chaque période correspond à un segment de droite et le stylo a calculé l'angle entre deux segments consécutifs... C'est l'information qui vous est fournie.\n",
    "\n",
    "Pour afficher une lettre, il faut reconstruire la trajectoire enregistrée... C'est ce que fait la méthode ci-dessous: "
   ]
  },
  {
   "cell_type": "code",
   "execution_count": 3,
   "metadata": {},
   "outputs": [],
   "source": [
    "# affichage d'une lettre\n",
    "def tracerLettre(let):\n",
    "    a = -let*np.pi/180; # conversion en rad\n",
    "    coord = np.array([[0, 0]]); # point initial\n",
    "    for i in range(len(a)):\n",
    "        x = np.array([[1, 0]]);\n",
    "        rot = np.array([[np.cos(a[i]), -np.sin(a[i])],[ np.sin(a[i]),np.cos(a[i])]])\n",
    "        xr = x.dot(rot) # application de la rotation\n",
    "        coord = np.vstack((coord,xr+coord[-1,:]))\n",
    "    plt.figure()\n",
    "    plt.plot(coord[:,0],coord[:,1])\n",
    "    #plt.savefig(\"exlettre.png\")\n",
    "    return"
   ]
  },
  {
   "cell_type": "code",
   "execution_count": 4,
   "metadata": {},
   "outputs": [
    {
     "name": "stdout",
     "output_type": "stream",
     "text": [
      "a\n"
     ]
    },
    {
     "data": {
      "image/png": "[encoded data removed]",
      "text/plain": [
       "<Figure size 432x288 with 1 Axes>"
      ]
     },
     "metadata": {
      "needs_background": "light"
     },
     "output_type": "display_data"
    }
   ],
   "source": [
    "# il s'agit d'un 'a'\n",
    "tracerLettre(X[0])\n",
    "print(Y[0]) # vérification de l'étiquette"
   ]
  },
  {
   "cell_type": "markdown",
   "metadata": {},
   "source": [
    "## A. Apprentissage d'un modèle CM (max de vraisemblance)\n",
    "### A1. Discrétisation\n",
    "\n",
    "**1 état = 1 angle**\n",
    "\n",
    "Il est nécessaire de regrouper les angles en un nombre fini d'états (par exemple 20)\n",
    "- définir un `intervalle = 360 / n_etats` (18° si on choisit 20 états)\n",
    "- discrétiser tous les signaux à l'aide de la formule `np.floor(x / intervalle)`\n",
    "    - si n_etats = 20 alors [0, 18[ => 0, [18, 36[ => 1, etc...\n",
    "\n",
    "Donner le code de la méthode `discretise(x, d)` qui prend la base des signaux et retourne une base de signaux discrétisés."
   ]
  },
  {
   "cell_type": "code",
   "execution_count": 5,
   "metadata": {},
   "outputs": [
    {
     "data": {
      "text/plain": [
       "array([0., 2., 2., 2., 2., 2., 2., 2., 1., 1., 1., 1., 1., 1., 2., 2., 2.,\n",
       "       2., 0., 0., 0., 0., 0.])"
      ]
     },
     "execution_count": 5,
     "metadata": {},
     "output_type": "execute_result"
    }
   ],
   "source": [
    "def discretise(x, d):\n",
    "    \n",
    "    # Votre code :\n",
    "    intervalle = 360 / d\n",
    "    \n",
    "    return np.array([np.floor(x[i]/intervalle) for i in range(x.shape[0])], dtype=object)\n",
    "\n",
    "discretise(X, 3)[0]"
   ]
  },
  {
   "cell_type": "markdown",
   "metadata": {},
   "source": [
    "**VALIDATION :** code du premier signal avec une discrétisation sur 3 états:\n",
    "```python\n",
    "array([ 0.,  2.,  2.,  2.,  2.,  2.,  2.,  2.,  1.,  1.,  1.,  1., 1., 1., 2., 2.,  2.,\n",
    "       2.,  0.,  0.,  0.,  0.,  0.])\n",
    "```"
   ]
  },
  {
   "cell_type": "markdown",
   "metadata": {},
   "source": [
    "### A2. Regrouper les indices des signaux par classe (pour faciliter l'apprentissage)"
   ]
  },
  {
   "cell_type": "code",
   "execution_count": 6,
   "metadata": {},
   "outputs": [],
   "source": [
    "def groupByLabel(y):\n",
    "    index = []\n",
    "    for i in np.unique(y): # pour toutes les classes\n",
    "        ind, = np.where(y == i)\n",
    "        index.append(ind)\n",
    "    return index\n",
    "\n",
    "Y_c = groupByLabel(Y)\n",
    "# np.unique(Y,return_counts=True)"
   ]
  },
  {
   "cell_type": "code",
   "execution_count": 9,
   "metadata": {},
   "outputs": [
    {
     "data": {
      "text/plain": [
       "[array([ 0,  1,  2,  3,  4,  5,  6,  7,  8,  9, 10]),\n",
       " array([11, 12, 13, 14, 15, 16, 17, 18, 19, 20, 21]),\n",
       " array([22, 23, 24, 25, 26, 27, 28, 29, 30, 31, 32]),\n",
       " array([33, 34, 35, 36, 37, 38, 39, 40, 41, 42, 43]),\n",
       " array([44, 45, 46, 47, 48, 49, 50, 51, 52, 53, 54]),\n",
       " array([55, 56, 57, 58, 59, 60, 61, 62, 63, 64, 65])]"
      ]
     },
     "execution_count": 9,
     "metadata": {},
     "output_type": "execute_result"
    }
   ],
   "source": [
    "Y_c[:6]"
   ]
  },
  {
   "cell_type": "markdown",
   "metadata": {},
   "source": [
    "Cette méthode produit simplement une structure type:\n",
    "```python\n",
    "[array([ 0,  1,  2,  3,  4,  5,  6,  7,  8,  9, 10]),\n",
    " array([11, 12, 13, 14, 15, 16, 17, 18, 19, 20, 21]),\n",
    " array([22, 23, 24, 25, 26, 27, 28, 29, 30, 31, 32]),\n",
    " array([33, 34, 35, 36, 37, 38, 39, 40, 41, 42, 43]),\n",
    " array([44, 45, 46, 47, 48, 49, 50, 51, 52, 53, 54]),\n",
    " array([55, 56, 57, 58, 59, 60, 61, 62, 63, 64, 65]),\n",
    " ...\n",
    "```\n",
    "Chaque ligne regroupe les indices de signaux correspondant à une classe. Il y a donc 11 exemples de 'a'."
   ]
  },
  {
   "cell_type": "markdown",
   "metadata": {},
   "source": [
    "### A3. Apprendre les modèles CM\n",
    "\n",
    "Soit {$X_C$} la base de signaux discrétisés correspondant à une classe {$C$} et {$d$} le nombre d'états. Donner le code de la fonction `learnMarkovModel(Xc, d)` qui retourne un tuple contenant Pi et A.\n",
    "\n",
    "Rappel:\n",
    "- Initialisation de \n",
    "```python\n",
    " A = np.zeros((d, d))\n",
    " Pi = np.zeros(d)```\n",
    "- Parcours de tous les signaux et incréments de A et Pi\n",
    "- Normalisation (un peu réfléchie pour éviter les divisions par 0)\n",
    "```python\n",
    "A = A / np.maximum(A.sum(1).reshape(d, 1), 1) # normalisation\n",
    "Pi = Pi / Pi.sum()```\n",
    "\n",
    "**Note** : la solution proposée pour gérer le cas des lignes entièrement à 0 est naïve et n'est pas totalement satisfaisante. Comprendre pourquoi. On proposera une solution améliorée plus loin dans le TME. "
   ]
  },
  {
   "cell_type": "code",
   "execution_count": 74,
   "metadata": {},
   "outputs": [],
   "source": [
    "def learnMarkovModel(Xc, d):\n",
    "    \n",
    "    # votre code\n",
    "    A = np.zeros((d,d))\n",
    "    Pi = np.zeros(d)\n",
    "    \n",
    "    for i in range(len(Xc)):\n",
    "        Xi = Xc[i]\n",
    "        Pi[int(Xi[0])] += 1\n",
    "        for j in range(1,len(Xi)):\n",
    "            A[int(Xi[j-1]),int(Xi[j])] += 1\n",
    "    \n",
    "    A = A / np.maximum(A.sum(1).reshape(d,1), 1)    # normalisation\n",
    "    Pi = Pi / Pi.sum()\n",
    "    \n",
    "    return Pi, A"
   ]
  },
  {
   "cell_type": "code",
   "execution_count": 11,
   "metadata": {},
   "outputs": [
    {
     "name": "stdout",
     "output_type": "stream",
     "text": [
      "[0.36363636 0.         0.63636364] \n",
      " [[0.84444444 0.06666667 0.08888889]\n",
      " [0.         0.83333333 0.16666667]\n",
      " [0.11382114 0.06504065 0.82113821]]\n"
     ]
    }
   ],
   "source": [
    "d = 3\n",
    "Y_c_a = Y_c[0]\n",
    "Xa = discretise(X[Y_c_a], d)\n",
    "\n",
    "Pi, A = learnMarkovModel(Xa, d)\n",
    "print(Pi,\"\\n\",A)"
   ]
  },
  {
   "cell_type": "markdown",
   "metadata": {},
   "source": [
    "**Validation :** premier modèle avec une discrétisation sur 3 états :\n",
    "```python\n",
    "(array([ 0.36363636,  0.        ,  0.63636364]),\n",
    " array([[ 0.84444444,  0.06666667,  0.08888889],\n",
    "       [ 0.        ,  0.83333333,  0.16666667],\n",
    "       [ 0.11382114,  0.06504065,  0.82113821]]))\n",
    "```"
   ]
  },
  {
   "cell_type": "markdown",
   "metadata": {},
   "source": [
    "### A4. Stocker les modèles dans une liste\n",
    "\n",
    "Pour un usage ultérieur plus facile, on utilise le code suivant :"
   ]
  },
  {
   "cell_type": "code",
   "execution_count": 12,
   "metadata": {},
   "outputs": [],
   "source": [
    "d = 20                   # paramètre de discrétisation\n",
    "Xd = discretise(X, d)    # application de la discrétisation\n",
    "index = groupByLabel(Y)  # groupement des signaux par classe\n",
    "models = []\n",
    "for cl in range(len(np.unique(Y))): # parcours de toutes les classes et optimisation des modèles\n",
    "    models.append(learnMarkovModel(Xd[index[cl]], d))"
   ]
  },
  {
   "cell_type": "code",
   "execution_count": 13,
   "metadata": {},
   "outputs": [],
   "source": [
    "d_3 = 3                   # paramètre de discrétisation\n",
    "Xd_3 = discretise(X, d_3)    # application de la discrétisation\n",
    "models_3 = []\n",
    "for cl in range(len(np.unique(Y))): # parcours de toutes les classes et optimisation des modèles\n",
    "    models_3.append(learnMarkovModel(Xd_3[index[cl]], d_3))"
   ]
  },
  {
   "cell_type": "markdown",
   "metadata": {},
   "source": [
    "### A5. Distribution stationnaire\n",
    "\n",
    "La distribution stationnaire $\\mu$, pour un système ergodique, correspond à:\n",
    "\n",
    "- la distribution des états observés dans l'ensemble des données\n",
    "- la distribution obtenu après un grand nombre de passage dans $A$ à partir de n'importe quelle distribution ou état d'origine (une matrice de transition ergodique va nous permettre de converger)\n",
    "- la solution de l'équation de stabilité: $\\mu = \\mu A$\n",
    "\n",
    "Dans le cas de la lettre 'a' et d'une discrétisation en 3 états, calculer la distribution stationnaire par les deux première méthode et vérifier que vous obtenez des résultats similaires.\n",
    "\n",
    "**Note 1:** pour la marche aléatoire, vous construirez une boucle sur 100 iérations (borne sup) et vous sortirez dès que la somme des écarts (en absolu) entre $\\mu_t$ et $\\mu_{t+1}$ est inférieure à $10^{-3}$. Vous vérifierez ensuite que le système converge quelque soit l'état de départ (3 appel àla fonction) ou avec une initialisation aléatoire.\n",
    "\n",
    "**Note 2:** les deux approches, bien que reposant sur les mêmes données, vont donner des solutions différentes. En effet, il n'y a que peu d'observations et le premier calcul repose sur les états alors que le second repose sur les transitions. \n",
    "Afin de vérifier l'exactitude de votre code, vous pourrez revenir sur cette question en fin de sujet avec le protocole suivant:\n",
    "1. utiliser la matrice de transition de 'a' pour générer une séquence de longeur 100000\n",
    "1. faire les statistiques des états (à l'aide d'un ```Counter``` par exemple)\n",
    "1. vérifier la convergence sur de longues séquences"
   ]
  },
  {
   "cell_type": "code",
   "execution_count": 22,
   "metadata": {},
   "outputs": [
    {
     "name": "stdout",
     "output_type": "stream",
     "text": [
      "[0.2999502  0.28425166 0.41579814]\n"
     ]
    }
   ],
   "source": [
    "# Premiere approche\n",
    "Pi, A = models_3[0]\n",
    "iter_max = 100\n",
    "mu = np.random.uniform(0,10,d_3)\n",
    "mu = mu / np.maximum(mu.sum(), 1)\n",
    "\n",
    "mu1 = mu\n",
    "for it in range(iter_max):\n",
    "  mu2 = mu1@A\n",
    "  if np.abs(mu2-mu1).max() < 1e-3:\n",
    "    break\n",
    "  mu1 = mu2\n",
    "\n",
    "print(mu2)"
   ]
  },
  {
   "cell_type": "code",
   "execution_count": 25,
   "metadata": {},
   "outputs": [
    {
     "name": "stdout",
     "output_type": "stream",
     "text": [
      "[0.30155726 0.28346475 0.41497798]\n"
     ]
    }
   ],
   "source": [
    "# Deuxieme approche\n",
    "\n",
    "A1 = A\n",
    "for it in range(iter_max):\n",
    "  A2 = A1@A\n",
    "  if np.abs(A2-A1).max() < 1e-3:\n",
    "    break\n",
    "  A1 = A2\n",
    "\n",
    "mu3 = mu@A2\n",
    "print(mu3)"
   ]
  },
  {
   "cell_type": "code",
   "execution_count": 27,
   "metadata": {},
   "outputs": [
    {
     "name": "stdout",
     "output_type": "stream",
     "text": [
      "Début avec 0 (array([0, 1, 2]), array([41, 14, 45]))\n",
      "Début avec 1 (array([0, 1, 2]), array([50, 14, 36]))\n",
      "Début avec 2 (array([0, 1, 2]), array([12, 43, 45]))\n"
     ]
    }
   ],
   "source": [
    "# sequence de 100000\n",
    "N = 100_000\n",
    "# S = [np.random.choice([0,1,2],p=Pi)]\n",
    "S0 = [0]\n",
    "S1 = [1]\n",
    "S2 = [2]\n",
    "for i in range(1,N):\n",
    "  S0.append(np.random.choice([j for j in range(d_3)],p=A[S0[-1]]))\n",
    "  S1.append(np.random.choice([j for j in range(d_3)],p=A[S1[-1]]))\n",
    "  S2.append(np.random.choice([j for j in range(d_3)],p=A[S2[-1]]))\n",
    "\n",
    "print(\"Début avec 0\",np.unique(S0[-100:],return_counts=True))\n",
    "print(\"Début avec 1\",np.unique(S1[-100:],return_counts=True))\n",
    "print(\"Début avec 2\",np.unique(S2[-100:],return_counts=True))"
   ]
  },
  {
   "cell_type": "code",
   "execution_count": 29,
   "metadata": {},
   "outputs": [
    {
     "name": "stdout",
     "output_type": "stream",
     "text": [
      "Début avec 0 (array([0, 1, 2]), array([20, 50, 30]))\n",
      "Début avec 1 (array([0, 1, 2]), array([25, 21, 54]))\n",
      "Début avec 2 (array([0, 1, 2]), array([37, 32, 31]))\n"
     ]
    }
   ],
   "source": [
    "# sequence de 100000\n",
    "N = 1_000_000\n",
    "S0 = [0]\n",
    "S1 = [1]\n",
    "S2 = [2]\n",
    "for i in range(1,N):\n",
    "  S0.append(np.random.choice([j for j in range(d_3 )],p=A[S0[-1]]))\n",
    "  S1.append(np.random.choice([j for j in range(d_3 )],p=A[S1[-1]]))\n",
    "  S2.append(np.random.choice([j for j in range(d_3 )],p=A[S2[-1]]))\n",
    "\n",
    "print(\"Début avec 0\",np.unique(S0[-100:],return_counts=True))\n",
    "print(\"Début avec 1\",np.unique(S1[-100:],return_counts=True))\n",
    "print(\"Début avec 2\",np.unique(S2[-100:],return_counts=True))"
   ]
  },
  {
   "cell_type": "markdown",
   "metadata": {},
   "source": [
    "##  B. Test (affectation dans les classes sur critère MV)\n",
    "### B1. (log)Probabilité d'une séquence dans un modèle\n",
    "\n",
    "Donner le code de la méthode `probaSequence(s,Pi,A)` qui retourne la log-probabilité d'une séquence `s` dans le modèle {$\\lambda=\\{Pi,A\\}$} "
   ]
  },
  {
   "cell_type": "code",
   "execution_count": 38,
   "metadata": {},
   "outputs": [],
   "source": [
    "def probaSequence(S, Pi, A):\n",
    "    \n",
    "    # Votre code\n",
    "    mu = Pi.copy()\n",
    "    l = np.log(Pi[int(S[0])])\n",
    "    s0 = S[0]\n",
    "    \n",
    "    for s in S[1:]:\n",
    "        l += np.log(A[int(s0),int(s)])\n",
    "        s0 = s\n",
    "    \n",
    "    return l"
   ]
  },
  {
   "cell_type": "code",
   "execution_count": 39,
   "metadata": {},
   "outputs": [
    {
     "name": "stderr",
     "output_type": "stream",
     "text": [
      "/var/folders/x7/bmqxr1zd3lxd_kcxxw9physr0000gn/T/ipykernel_27620/3874321713.py:5: RuntimeWarning: divide by zero encountered in log\n",
      "  l = np.log(Pi[int(S[0])])\n",
      "/var/folders/x7/bmqxr1zd3lxd_kcxxw9physr0000gn/T/ipykernel_27620/3874321713.py:9: RuntimeWarning: divide by zero encountered in log\n",
      "  l += np.log(A[int(s0),int(s)])\n"
     ]
    },
    {
     "data": {
      "text/plain": [
       "array([-13.491086  ,         -inf,         -inf,         -inf,\n",
       "               -inf,         -inf,         -inf,         -inf,\n",
       "               -inf,         -inf,         -inf,         -inf,\n",
       "               -inf,         -inf,         -inf,         -inf,\n",
       "               -inf,         -inf,         -inf,         -inf,\n",
       "               -inf,         -inf,         -inf,         -inf,\n",
       "               -inf, -12.48285678])"
      ]
     },
     "execution_count": 39,
     "metadata": {},
     "output_type": "execute_result"
    }
   ],
   "source": [
    "np.array([probaSequence(Xd_3[0],models_3[cl][0],models_3[cl][1]) for cl in range(len(np.unique(Y)))])"
   ]
  },
  {
   "cell_type": "markdown",
   "metadata": {},
   "source": [
    "**VALIDATION :** probabilité du premier signal dans les 26 modèles avec une discrétisation sur 3 états :\n",
    "```python\n",
    "array([-13.491086  ,         -inf,         -inf,         -inf,\n",
    "               -inf,         -inf,         -inf,         -inf,\n",
    "               -inf,         -inf,         -inf,         -inf,\n",
    "               -inf,         -inf,         -inf,         -inf,\n",
    "               -inf,         -inf,         -inf,         -inf,\n",
    "               -inf,         -inf,         -inf,         -inf,\n",
    "               -inf, -12.48285678])\n",
    "```\n",
    "\n",
    "- Ce signal est-il bien classé ?\n",
    "- D'où viennent tous les `-inf` ? "
   ]
  },
  {
   "cell_type": "markdown",
   "metadata": {},
   "source": [
    "Ce signal n'est pas bien classé parceque le maximum de la log vraisemblance est sur '\n",
    "z' alors que le signal représente plutôt le caractère 'a'.\n",
    "Les -inf représentent la valeur du log en zéro. La probabilité que le signal soit un caractère entre 'b' et 'y' est quasi nulle."
   ]
  },
  {
   "cell_type": "markdown",
   "metadata": {},
   "source": [
    "### B2. Application de la méthode précédente pour tous les signaux et tous les modèles de lettres\n",
    "\n",
    "L'application se fait en une ligne de code si vous avez respecté les spécifications précédentes : "
   ]
  },
  {
   "cell_type": "code",
   "execution_count": 40,
   "metadata": {},
   "outputs": [
    {
     "name": "stderr",
     "output_type": "stream",
     "text": [
      "/var/folders/x7/bmqxr1zd3lxd_kcxxw9physr0000gn/T/ipykernel_27620/3874321713.py:5: RuntimeWarning: divide by zero encountered in log\n",
      "  l = np.log(Pi[int(S[0])])\n",
      "/var/folders/x7/bmqxr1zd3lxd_kcxxw9physr0000gn/T/ipykernel_27620/3874321713.py:9: RuntimeWarning: divide by zero encountered in log\n",
      "  l += np.log(A[int(s0),int(s)])\n"
     ]
    }
   ],
   "source": [
    "proba = np.array([[probaSequence(Xd[i], models[cl][0], models[cl][1]) for i in range(len(Xd))]\n",
    "                  for cl in range(len(np.unique(Y)))])"
   ]
  },
  {
   "cell_type": "code",
   "execution_count": 41,
   "metadata": {},
   "outputs": [
    {
     "name": "stderr",
     "output_type": "stream",
     "text": [
      "/var/folders/x7/bmqxr1zd3lxd_kcxxw9physr0000gn/T/ipykernel_27620/3874321713.py:5: RuntimeWarning: divide by zero encountered in log\n",
      "  l = np.log(Pi[int(S[0])])\n",
      "/var/folders/x7/bmqxr1zd3lxd_kcxxw9physr0000gn/T/ipykernel_27620/3874321713.py:9: RuntimeWarning: divide by zero encountered in log\n",
      "  l += np.log(A[int(s0),int(s)])\n"
     ]
    }
   ],
   "source": [
    "proba_3 = np.array([[probaSequence(Xd_3[i], models_3[cl][0], models_3[cl][1]) for i in range(len(Xd))]\n",
    "                  for cl in range(len(np.unique(Y)))])"
   ]
  },
  {
   "cell_type": "markdown",
   "metadata": {},
   "source": [
    "### B3. Evaluation des performances\n",
    "\n",
    "Pour l'évaluation, nous proposons l'approche suivante: "
   ]
  },
  {
   "cell_type": "code",
   "execution_count": 44,
   "metadata": {},
   "outputs": [],
   "source": [
    "# calcul d'une version numérique des Y :\n",
    "Ynum = np.zeros(Y.shape)\n",
    "for num, char in enumerate(np.unique(Y)):\n",
    "    Ynum[Y == char] = num\n",
    "    \n",
    "# Calcul de la classe la plus probable :\n",
    "pred = proba.argmax(0) # max colonne par colonne\n",
    "pred_3 = proba_3.argmax(0) # max colonne par colonne\n",
    "\n",
    "# Calcul d'un pourcentage de bonne classification :\n",
    "per = np.where(pred != Ynum, 0.,1.).mean()\n",
    "per_3 = np.where(pred_3 != Ynum, 0.,1.).mean()"
   ]
  },
  {
   "cell_type": "code",
   "execution_count": 45,
   "metadata": {},
   "outputs": [
    {
     "name": "stdout",
     "output_type": "stream",
     "text": [
      "Performance avec 20 états 0.914179104477612\n",
      "Performance avec 3 états 0.6902985074626866\n"
     ]
    }
   ],
   "source": [
    "print(\"Performance avec 20 états\",per)\n",
    "print(\"Performance avec 3 états\",per_3)"
   ]
  },
  {
   "cell_type": "markdown",
   "metadata": {},
   "source": [
    "**INDICE DE PERFORMANCE :** 91% de bonne classification avec 20 états, 69% avec 3 états"
   ]
  },
  {
   "cell_type": "markdown",
   "metadata": {},
   "source": [
    "## C. Biais d'évaluation, notion de sur-apprentissage\n",
    "\n",
    "Dans le protocole précédent, nous avons triché:\n",
    "- les données servent d'abord à apprendre les modèles...\n",
    "- puis nous nous servons des mêmes données pour tester les modèles ! Les performances sont forcément bonnes ! \n",
    "\n",
    "Afin de palier le problème, nous allons diviser en deux la base de données: une partie servira à l'apprentissage des modèles, l'autre à leur évaluation. Pour effectuer la division, nous fournissons le code suivant: "
   ]
  },
  {
   "cell_type": "code",
   "execution_count": 46,
   "metadata": {},
   "outputs": [],
   "source": [
    "# separation app/test, pc=ratio de points en apprentissage\n",
    "def separeTrainTest(y, pc):\n",
    "    indTrain = []\n",
    "    indTest = []\n",
    "    for i in np.unique(y): # pour toutes les classes\n",
    "        ind, = np.where(y == i)\n",
    "        n = len(ind)\n",
    "        indTrain.append(ind[np.random.permutation(n)][:int(np.floor(pc * n))])\n",
    "        indTest.append(np.setdiff1d(ind, indTrain[-1]))\n",
    "    return indTrain, indTest\n",
    "\n",
    "# exemple d'utilisation\n",
    "itrain, itest = separeTrainTest(Y, 0.8)"
   ]
  },
  {
   "cell_type": "markdown",
   "metadata": {},
   "source": [
    "dans `itrain`, nous obtenons les indices des signaux qui doivent servir en apprentissage pour chaque classe :"
   ]
  },
  {
   "cell_type": "code",
   "execution_count": 48,
   "metadata": {},
   "outputs": [
    {
     "data": {
      "text/plain": [
       "[array([ 6,  0,  2,  4,  7,  8, 10,  5]),\n",
       " array([21, 17, 14, 20, 13, 12, 15, 16]),\n",
       " array([31, 29, 22, 32, 24, 23, 30, 28]),\n",
       " array([36, 39, 38, 40, 41, 42, 34, 33]),\n",
       " array([53, 44, 47, 54, 46, 49, 52, 50]),\n",
       " array([55, 56, 62, 59, 60, 61, 57, 58])]"
      ]
     },
     "execution_count": 48,
     "metadata": {},
     "output_type": "execute_result"
    }
   ],
   "source": [
    "itrain[:6]"
   ]
  },
  {
   "cell_type": "markdown",
   "metadata": {},
   "source": [
    "**Note :** pour faciliter l'évaluation des modèles, vous aurez besoin de re-fusionner tous les indices d'apprentissage et de test. Cela se fait avec les lignes de code suivantes : "
   ]
  },
  {
   "cell_type": "code",
   "execution_count": 49,
   "metadata": {},
   "outputs": [],
   "source": [
    "ia = []\n",
    "for i in itrain:\n",
    "    ia += i.tolist()    \n",
    "it = []\n",
    "for i in itest:\n",
    "    it += i.tolist()"
   ]
  },
  {
   "cell_type": "markdown",
   "metadata": {},
   "source": [
    "**Note 2 :** Du fait de la permutation aléatoire, les résultats vont bouger (un peu) à chaque execution du programme. "
   ]
  },
  {
   "cell_type": "code",
   "execution_count": null,
   "metadata": {},
   "outputs": [],
   "source": [
    "d = 20                   # paramètre de discrétisation\n",
    "Xd_a = discretise(X[ia], d)    # application de la discrétisation\n",
    "index = groupByLabel(Y)  # groupement des signaux par classe\n",
    "models_a = []\n",
    "for cl in range(len(np.unique(Y))): # parcours de toutes les classes et optimisation des modèles\n",
    "    models_a.append(learnMarkovModel(Xd_a[index[cl]], d))"
   ]
  },
  {
   "cell_type": "markdown",
   "metadata": {},
   "source": [
    "### C1. Questions importantes\n",
    "- Ré-utiliser les fonctions précédemment définies pour apprendre des modèles et les évaluer sans biais.\n",
    "- Calculer et analyser les résultats obtenus en apprentissage et en test\n",
    "- Etudier l'évolution des performances en fonction de la discrétisation"
   ]
  },
  {
   "cell_type": "code",
   "execution_count": 70,
   "metadata": {},
   "outputs": [],
   "source": [
    "# Votre code\n",
    "d = 20                   # paramètre de discrétisation\n",
    "Xd_a,Xd_t = discretise(X[ia], d), discretise(X[it], d)\n",
    "Y_a,Y_t = Y[ia],Y[it]\n",
    "\n",
    "index = groupByLabel(Y_a)  # groupement des signaux par classe\n",
    "models_a = []\n",
    "for cl in range(len(np.unique(Y_a))): # parcours de toutes les classes et optimisation des modèles\n",
    "    models_a.append(learnMarkovModel(Xd_a[index[cl]], d))\n",
    "\n",
    "d_3 = 3                   # paramètre de discrétisation\n",
    "Xd_3_a,Xd_3_t = discretise(X[ia], d_3),discretise(X[it], d_3)    # application de la discrétisation\n",
    "models_3_a = []\n",
    "for cl in range(len(np.unique(Y_a))): # parcours de toutes les classes et optimisation des modèles\n",
    "    models_3_a.append(learnMarkovModel(Xd_3_a[index[cl]], d_3))"
   ]
  },
  {
   "cell_type": "code",
   "execution_count": 71,
   "metadata": {},
   "outputs": [
    {
     "name": "stderr",
     "output_type": "stream",
     "text": [
      "/var/folders/x7/bmqxr1zd3lxd_kcxxw9physr0000gn/T/ipykernel_27620/3874321713.py:5: RuntimeWarning: divide by zero encountered in log\n",
      "  l = np.log(Pi[int(S[0])])\n",
      "/var/folders/x7/bmqxr1zd3lxd_kcxxw9physr0000gn/T/ipykernel_27620/3874321713.py:9: RuntimeWarning: divide by zero encountered in log\n",
      "  l += np.log(A[int(s0),int(s)])\n"
     ]
    },
    {
     "name": "stdout",
     "output_type": "stream",
     "text": [
      "Performance sur les données d'apprentissage avec 20 états: 0.9326923076923077\n",
      "Performance sur les données de test avec 20 états: 0.21666666666666667\n",
      "Performance sur les données d'apprentissage avec 3 états: 0.6682692307692307\n",
      "Performance sur les données de test avec 3 états: 0.6166666666666667\n"
     ]
    }
   ],
   "source": [
    "proba_a = np.array([[probaSequence(Xd_a[i], models_a[cl][0], models_a[cl][1]) for i in range(len(Xd_a))]\n",
    "                  for cl in range(len(np.unique(Y_a)))])\n",
    "proba_t = np.array([[probaSequence(Xd_t[i], models_a[cl][0], models_a[cl][1]) for i in range(len(Xd_t))]\n",
    "                  for cl in range(len(np.unique(Y_t)))])\n",
    "\n",
    "# avec 3 états\n",
    "proba_a_3 = np.array([[probaSequence(Xd_3_a[i], models_3_a[cl][0], models_3_a[cl][1]) for i in range(len(Xd_3_a))]\n",
    "                 for cl in range(len(np.unique(Y_a)))])\n",
    "proba_t_3 = np.array([[probaSequence(Xd_3_t[i], models_3_a[cl][0], models_3_a[cl][1]) for i in range(len(Xd_3_t))]\n",
    "                 for cl in range(len(np.unique(Y_a)))])\n",
    "\n",
    "# perfs\n",
    "# calcul d'une version numérique des Y :\n",
    "Ynum_a = np.zeros(Y_a.shape)\n",
    "for num, char in enumerate(np.unique(Y_a)):\n",
    "    Ynum_a[Y_a == char] = num\n",
    "Ynum_t = np.zeros(Y_t.shape)\n",
    "for num, char in enumerate(np.unique(Y_t)):\n",
    "    Ynum_t[Y_t == char] = num\n",
    "    \n",
    "# Calcul de la classe la plus probable :\n",
    "pred_a,pred_t = proba_a.argmax(0),proba_t.argmax(0) # max colonne par colonne\n",
    "pred_a_3,pred_t_3 = proba_a_3.argmax(0),proba_t_3.argmax(0) # max colonne par colonne\n",
    "\n",
    "# Calcul d'un pourcentage de bonne classification :\n",
    "per_a,per_t = np.where(pred_a != Ynum_a, 0.,1.).mean(),np.where(pred_t != Ynum_t, 0.,1.).mean()\n",
    "per_a_3,per_t_3 = np.where(pred_a_3 != Ynum_a, 0.,1.).mean(),np.where(pred_t_3 != Ynum_t, 0.,1.).mean()\n",
    "\n",
    "print(\"Performance sur les données d'apprentissage avec 20 états:\",per_a)\n",
    "print(\"Performance sur les données de test avec 20 états:\",per_t)\n",
    "\n",
    "print(\"Performance sur les données d'apprentissage avec 3 états:\",per_a_3)\n",
    "print(\"Performance sur les données de test avec 3 états:\",per_t_3)"
   ]
  },
  {
   "cell_type": "markdown",
   "metadata": {},
   "source": [
    "### C2. Lutter contre le sur-apprentissage\n",
    "Cette base de données met en lumière le phénomène de sur-apprentissage : il y a peu de données et dès que le nombre d'états augmente, il y a trop peu d'exemple pour estimer correctement les matrices {$A, \\pi$}. De nombreuses cases sont donc à 0, voire des lignes entières (d'où la sécurisation du code pour la normalisation des matrices stochastiques).\n",
    "\n",
    "Ces 0 sont particulièrement discriminants: considérant la classe {$c$}, ils permettent d'éliminer de cette classe tout signal présentant cette caractéristique. Cette règle est trop forte compte tenu de la taille de la base d'apprentissage. Nous proposons une astuce pour palier cette faiblesse : lors du comptage, initialiser les matrices {$A, \\pi$} avec ones au lieu de zeros . On fait semblant d'avoir observer une transition de chaque type avant même le début du comptage.\n",
    "\n",
    "Comparer les performances en test."
   ]
  },
  {
   "cell_type": "code",
   "execution_count": 75,
   "metadata": {},
   "outputs": [],
   "source": [
    "def learnMarkovModel(Xc, d):\n",
    "    \n",
    "    # votre code\n",
    "    A = np.ones((d,d))\n",
    "    Pi = np.ones(d)\n",
    "    \n",
    "    for i in range(len(Xc)):\n",
    "        Xi = Xc[i]\n",
    "        Pi[int(Xi[0])] += 1\n",
    "        for j in range(1,len(Xi)):\n",
    "            A[int(Xi[j-1]),int(Xi[j])] += 1\n",
    "    \n",
    "    A = A / np.maximum(A.sum(1).reshape(d,1), 1)    # normalisation\n",
    "    Pi = Pi / Pi.sum()\n",
    "    \n",
    "    return Pi, A"
   ]
  },
  {
   "cell_type": "code",
   "execution_count": 76,
   "metadata": {},
   "outputs": [
    {
     "name": "stdout",
     "output_type": "stream",
     "text": [
      "Performance sur les données de test avec 20 états: 0.6666666666666666\n",
      "Performance sur les données de test avec 3 états: 0.5166666666666667\n"
     ]
    }
   ],
   "source": [
    "# Votre code\n",
    "d = 20                   # paramètre de discrétisation\n",
    "Xd_a,Xd_t = discretise(X[ia], d), discretise(X[it], d)\n",
    "Y_a,Y_t = Y[ia],Y[it]\n",
    "\n",
    "index = groupByLabel(Y_a)  # groupement des signaux par classe\n",
    "models_a = []\n",
    "for cl in range(len(np.unique(Y_a))): # parcours de toutes les classes et optimisation des modèles\n",
    "    models_a.append(learnMarkovModel(Xd_a[index[cl]], d))\n",
    "\n",
    "d_3 = 3                   # paramètre de discrétisation\n",
    "Xd_3_a,Xd_3_t = discretise(X[ia], d_3),discretise(X[it], d_3)    # application de la discrétisation\n",
    "models_3_a = []\n",
    "for cl in range(len(np.unique(Y_a))): # parcours de toutes les classes et optimisation des modèles\n",
    "    models_3_a.append(learnMarkovModel(Xd_3_a[index[cl]], d_3))\n",
    "\n",
    "\n",
    "# comparaison en test\n",
    "proba_t = np.array([[probaSequence(Xd_t[i], models_a[cl][0], models_a[cl][1]) for i in range(len(Xd_t))]\n",
    "                  for cl in range(len(np.unique(Y_t)))])\n",
    "\n",
    "# avec 3 états\n",
    "proba_t_3 = np.array([[probaSequence(Xd_3_t[i], models_3_a[cl][0], models_3_a[cl][1]) for i in range(len(Xd_3_t))]\n",
    "                 for cl in range(len(np.unique(Y_a)))])\n",
    "\n",
    "# perfs\n",
    "# calcul d'une version numérique des Y :\n",
    "Ynum_t = np.zeros(Y_t.shape)\n",
    "for num, char in enumerate(np.unique(Y_t)):\n",
    "    Ynum_t[Y_t == char] = num\n",
    "    \n",
    "# Calcul de la classe la plus probable :\n",
    "pred_t = proba_t.argmax(0) # max colonne par colonne\n",
    "pred_t_3 = proba_t_3.argmax(0) # max colonne par colonne\n",
    "\n",
    "# Calcul d'un pourcentage de bonne classification :\n",
    "per_t = np.where(pred_t != Ynum_t, 0.,1.).mean()\n",
    "per_t_3 = np.where(pred_t_3 != Ynum_t, 0.,1.).mean()\n",
    "\n",
    "print(\"Performance sur les données de test avec 20 états:\",per_t)\n",
    "print(\"Performance sur les données de test avec 3 états:\",per_t_3)"
   ]
  },
  {
   "cell_type": "markdown",
   "metadata": {},
   "source": [
    "La performance avec 20 états augmente, elle passe de 21% à 51%."
   ]
  },
  {
   "cell_type": "markdown",
   "metadata": {},
   "source": [
    "## D. Evaluation qualitative\n",
    "\n",
    "Nous nous demandons maintenant où se trouvent les erreurs que nous avons commises...\n",
    "\n",
    "Calcul de la matrice de confusion: pour chaque échantillon de test, nous avons une prédiction (issue du modèle) et une vérité terrain (la vraie étiquette). En posant Nc le nombre de classes, la matrice de confusion est une matrice (Nc x Nc) où nous comptons le nombre d'échantillon de test dans chaque catégorie :\n",
    "\n",
    "- Initialisation à 0 : "
   ]
  },
  {
   "cell_type": "code",
   "execution_count": 77,
   "metadata": {},
   "outputs": [],
   "source": [
    "conf = np.zeros((26,26))"
   ]
  },
  {
   "cell_type": "markdown",
   "metadata": {},
   "source": [
    "- Pour chaque échantillon, incrément de la case (prediction, vérité)"
   ]
  },
  {
   "cell_type": "code",
   "execution_count": 82,
   "metadata": {},
   "outputs": [
    {
     "data": {
      "text/plain": [
       "array([ 0.,  0.,  0.,  1.,  1.,  1.,  2.,  2.,  2.,  3.,  3.,  3.,  4.,\n",
       "        4.,  4.,  5.,  5.,  5.,  6.,  6.,  6.,  7.,  7.,  7.,  8.,  8.,\n",
       "        9.,  9., 10., 10., 11., 11., 12., 12., 13., 13., 14., 14., 15.,\n",
       "       15., 16., 16., 17., 17., 18., 18., 19., 19., 20., 20., 21., 21.,\n",
       "       22., 22., 23., 23., 24., 24., 25., 25.])"
      ]
     },
     "execution_count": 82,
     "metadata": {},
     "output_type": "execute_result"
    }
   ],
   "source": [
    "Ynum_t"
   ]
  },
  {
   "cell_type": "code",
   "execution_count": 83,
   "metadata": {},
   "outputs": [],
   "source": [
    "# Votre code\n",
    "for i in range(pred_t.shape[0]):\n",
    "  conf[pred_t[i],int(Ynum_t[i])] += 1"
   ]
  },
  {
   "cell_type": "markdown",
   "metadata": {},
   "source": [
    "- Tracé de la matrice : "
   ]
  },
  {
   "cell_type": "code",
   "execution_count": 84,
   "metadata": {},
   "outputs": [
    {
     "data": {
      "text/plain": [
       "Text(0, 0.5, 'Prédiction')"
      ]
     },
     "execution_count": 84,
     "metadata": {},
     "output_type": "execute_result"
    },
    {
     "data": {
      "image/png": "[encoded data removed]",
      "text/plain": [
       "<Figure size 432x288 with 2 Axes>"
      ]
     },
     "metadata": {
      "needs_background": "light"
     },
     "output_type": "display_data"
    }
   ],
   "source": [
    "plt.figure()\n",
    "plt.imshow(conf, interpolation = 'nearest')\n",
    "plt.colorbar()\n",
    "plt.xticks(np.arange(26), np.unique(Y))\n",
    "plt.yticks(np.arange(26), np.unique(Y))\n",
    "plt.xlabel(u'Vérité terrain')\n",
    "plt.ylabel(u'Prédiction')\n",
    "#plt.savefig(\"mat_conf_lettres.png\")"
   ]
  },
  {
   "cell_type": "markdown",
   "metadata": {},
   "source": [
    "## E. Modèle génératif\n",
    "\n",
    "Utiliser les modèles appris pour générer de nouvelles lettres manuscrites.\n",
    "\n",
    "### E1. Tirage selon une loi de probabilité discrète\n",
    "\n",
    "- faire la somme cumulée de la loi {$sc$}\n",
    "- tirer un nombre aléatoire {$t$} entre 0 et 1\n",
    "- trouver la première valeur de {$sc$} qui est supérieure à {$t$}\n",
    "- retourner cet état \n",
    "\n",
    "**Note :** comme vu en cours, tout repose sur la somme cumulée (notée ici `sc$`, calculable en appelant `np.cumsum`. Sur un exemple: la loi `V = [0.2, 0.4, 0.3, 0.1]` a pour somme cumulée `V.cumsum() == [0.2,  0.6,  0.9,  1.0]`\n",
    "\n",
    "### E2. Génération d'une séquence de longueur N\n",
    "\n",
    "- tirer un état {$s_0$} selon Pi\n",
    "- tant que la longueur n'est pas atteinte :\n",
    "  - tirer un état {$s_{t+1}$} selon {$A[s_{t}]$} "
   ]
  },
  {
   "cell_type": "code",
   "execution_count": 85,
   "metadata": {},
   "outputs": [
    {
     "data": {
      "text/plain": [
       "array([[0.84444444, 0.06666667, 0.08888889],\n",
       "       [0.        , 0.83333333, 0.16666667],\n",
       "       [0.11382114, 0.06504065, 0.82113821]])"
      ]
     },
     "execution_count": 85,
     "metadata": {},
     "output_type": "execute_result"
    }
   ],
   "source": [
    "A"
   ]
  },
  {
   "cell_type": "code",
   "execution_count": 90,
   "metadata": {},
   "outputs": [],
   "source": [
    "# Votre code\n",
    "def generate(Pi,A,N):\n",
    "  Picum,Acum = Pi.cumsum(),A.cumsum(1)\n",
    "  r = np.random.rand()\n",
    "  s = []\n",
    "  for e in range(A.shape[1]):\n",
    "    if r<Picum[e]:\n",
    "      s = [e]\n",
    "      break\n",
    "  \n",
    "  for i in range(1,N):\n",
    "    r = np.random.rand()\n",
    "    for e in range(A.shape[1]):\n",
    "      if r<Acum[s[-1],e]:\n",
    "        s.append(e)\n",
    "        break\n",
    "  \n",
    "  return s"
   ]
  },
  {
   "cell_type": "markdown",
   "metadata": {},
   "source": [
    "### E3. Affichage du résultat"
   ]
  },
  {
   "cell_type": "code",
   "execution_count": 96,
   "metadata": {},
   "outputs": [
    {
     "data": {
      "image/png": "[encoded data removed]",
      "text/plain": [
       "<Figure size 432x288 with 1 Axes>"
      ]
     },
     "metadata": {
      "needs_background": "light"
     },
     "output_type": "display_data"
    }
   ],
   "source": [
    "c = 2\n",
    "newa = generate(models[c][0], models[c][1], 20)       # generation d'une séquence d'états\n",
    "intervalle = 360. / d                                 # pour passer des états => valeur d'angles\n",
    "newa_continu = np.array([i * intervalle for i in newa]) # conv int => double\n",
    "tracerLettre(newa_continu)"
   ]
  },
  {
   "cell_type": "code",
   "execution_count": null,
   "metadata": {},
   "outputs": [],
   "source": []
  }
 ],
 "metadata": {
  "kernelspec": {
   "display_name": "Python 3.9.13 64-bit",
   "language": "python",
   "name": "python3"
  },
  "language_info": {
   "codemirror_mode": {
    "name": "ipython",
    "version": 3
   },
   "file_extension": ".py",
   "mimetype": "text/x-python",
   "name": "python",
   "nbconvert_exporter": "python",
   "pygments_lexer": "ipython3",
   "version": "3.9.13"
  },
  "vscode": {
   "interpreter": {
    "hash": "aee8b7b246df8f9039afb4144a1f6fd8d2ca17a180786b69acc140d282b71a49"
   }
  }
 },
 "nbformat": 4,
 "nbformat_minor": 4
}
